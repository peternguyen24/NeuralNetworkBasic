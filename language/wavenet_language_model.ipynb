{
  "nbformat": 4,
  "nbformat_minor": 0,
  "metadata": {
    "colab": {
      "provenance": [],
      "mount_file_id": "1sULH1X6AkYLUfMV7cUjb6PqclfuCBekV",
      "authorship_tag": "ABX9TyNRbSMYYV7sOSz4LuyQzKHp",
      "include_colab_link": true
    },
    "kernelspec": {
      "name": "python3",
      "display_name": "Python 3"
    },
    "language_info": {
      "name": "python"
    }
  },
  "cells": [
    {
      "cell_type": "markdown",
      "metadata": {
        "id": "view-in-github",
        "colab_type": "text"
      },
      "source": [
        "<a href=\"https://colab.research.google.com/github/peternguyen24/NeuralNetworkBasic/blob/main/language/wavenet_language_model.ipynb\" target=\"_parent\"><img src=\"https://colab.research.google.com/assets/colab-badge.svg\" alt=\"Open In Colab\"/></a>"
      ]
    },
    {
      "cell_type": "markdown",
      "source": [
        "Video: https://www.youtube.com/watch?v=t3YJ5hKiMQ0&list=PLAqhIrjkxbuWI23v9cThsA9GvCAUhRvKZ&index=6"
      ],
      "metadata": {
        "id": "VxtEcy3t6Txn"
      }
    },
    {
      "cell_type": "code",
      "execution_count": 1,
      "metadata": {
        "id": "wW8whmRI6RNg"
      },
      "outputs": [],
      "source": [
        " words = open('/content/drive/MyDrive/Colab Notebooks/names.txt', 'r').read().splitlines()"
      ]
    },
    {
      "cell_type": "code",
      "source": [
        "words[:8]"
      ],
      "metadata": {
        "colab": {
          "base_uri": "https://localhost:8080/"
        },
        "id": "RTrVhw0-62WS",
        "outputId": "96ddc5f4-8f78-427e-fe15-a2f72ff64585"
      },
      "execution_count": 2,
      "outputs": [
        {
          "output_type": "execute_result",
          "data": {
            "text/plain": [
              "['emma', 'olivia', 'ava', 'isabella', 'sophia', 'charlotte', 'mia', 'amelia']"
            ]
          },
          "metadata": {},
          "execution_count": 2
        }
      ]
    },
    {
      "cell_type": "markdown",
      "source": [
        "#Part 1: Dataset"
      ],
      "metadata": {
        "id": "RwGvc7Rp7FpK"
      }
    },
    {
      "cell_type": "code",
      "source": [
        "import torch\n",
        "import torch.nn.functional as F\n",
        "import matplotlib.pyplot as plt"
      ],
      "metadata": {
        "id": "hxT3pIZQ7d62"
      },
      "execution_count": 3,
      "outputs": []
    },
    {
      "cell_type": "code",
      "source": [
        "chars = set()\n",
        "for word in words:\n",
        "  for ch in word:\n",
        "    chars.add(ch)\n",
        "chars = sorted(list(chars))\n",
        "\n",
        "stoi = {ch: idx+1 for idx, ch in enumerate(chars)}\n",
        "stoi['.'] = 0\n",
        "\n",
        "itos = {idx: ch for ch, idx in stoi.items()}\n",
        "print(itos)\n",
        "print(stoi)\n",
        "\n",
        "VOCAB_SIZE = len(itos)"
      ],
      "metadata": {
        "colab": {
          "base_uri": "https://localhost:8080/"
        },
        "id": "KuUqqRK07Wfz",
        "outputId": "545d24e2-80d2-4787-be9f-6b0c4a4cdd79"
      },
      "execution_count": 4,
      "outputs": [
        {
          "output_type": "stream",
          "name": "stdout",
          "text": [
            "{1: 'a', 2: 'b', 3: 'c', 4: 'd', 5: 'e', 6: 'f', 7: 'g', 8: 'h', 9: 'i', 10: 'j', 11: 'k', 12: 'l', 13: 'm', 14: 'n', 15: 'o', 16: 'p', 17: 'q', 18: 'r', 19: 's', 20: 't', 21: 'u', 22: 'v', 23: 'w', 24: 'x', 25: 'y', 26: 'z', 0: '.'}\n",
            "{'a': 1, 'b': 2, 'c': 3, 'd': 4, 'e': 5, 'f': 6, 'g': 7, 'h': 8, 'i': 9, 'j': 10, 'k': 11, 'l': 12, 'm': 13, 'n': 14, 'o': 15, 'p': 16, 'q': 17, 'r': 18, 's': 19, 't': 20, 'u': 21, 'v': 22, 'w': 23, 'x': 24, 'y': 25, 'z': 26, '.': 0}\n"
          ]
        }
      ]
    },
    {
      "cell_type": "code",
      "source": [
        "# BLOCK_SIZE = 3\n",
        "# X, Y  = [], []\n",
        "\n",
        "# for w in words:\n",
        "#   # print(w)\n",
        "#   context = [0] * BLOCK_SIZE\n",
        "#   for ch in w + '.':\n",
        "#     ix = stoi[ch]\n",
        "#     X.append(context)\n",
        "#     Y.append(ix)\n",
        "#     # print(''.join(itos[i] for i in context), '--->', itos[ix])\n",
        "#     context = context[1:] + [ix]\n",
        "\n",
        "# X = torch.tensor(X)\n",
        "# Y = torch.tensor(Y)\n",
        "# data_size = X.nelement()"
      ],
      "metadata": {
        "id": "o5XvO2k367xb"
      },
      "execution_count": 5,
      "outputs": []
    },
    {
      "cell_type": "code",
      "source": [
        "# X.shape, X.dtype, Y.shape, Y.dtype\n"
      ],
      "metadata": {
        "id": "GGIh7bSQ80w_"
      },
      "execution_count": 6,
      "outputs": []
    },
    {
      "cell_type": "code",
      "source": [
        "# training split, validation split, test split\n",
        "# 80% 10% 10%\n",
        "\n",
        "BLOCK_SIZE = 8 # Take 8 character to build next char\n",
        "\n",
        "def build_dataset(words):\n",
        "  X, Y  = [], []\n",
        "  for w in words:\n",
        "  # print(w)\n",
        "    context = [0] * BLOCK_SIZE\n",
        "    for ch in w + '.':\n",
        "      ix = stoi[ch]\n",
        "      X.append(context)\n",
        "      Y.append(ix)\n",
        "      # print(''.join(itos[i] for i in context), '--->', itos[ix])\n",
        "      context = context[1:] + [ix]\n",
        "  return torch.tensor(X), torch.tensor(Y)\n",
        "\n",
        "import random\n",
        "random.seed(42)\n",
        "random.shuffle(words)\n",
        "n1 = int(0.8*len(words))\n",
        "n2 = int(0.9*len(words))\n",
        "\n",
        "Xtr, Ytr = build_dataset(words[:n1])\n",
        "Xdev, Ydev = build_dataset(words[n1:n2])\n",
        "Xte, Yte = build_dataset(words[n2:])\n",
        "\n",
        "print(Xtr.shape, Ytr.shape)\n",
        "print(Xdev.shape, Ydev.shape)\n",
        "print(Xte.shape, Yte.shape)\n"
      ],
      "metadata": {
        "id": "E5r2nKijRttA",
        "colab": {
          "base_uri": "https://localhost:8080/"
        },
        "outputId": "773ce165-d42a-4ff6-c62b-f23ece8f085b"
      },
      "execution_count": 7,
      "outputs": [
        {
          "output_type": "stream",
          "name": "stdout",
          "text": [
            "torch.Size([182625, 8]) torch.Size([182625])\n",
            "torch.Size([22655, 8]) torch.Size([22655])\n",
            "torch.Size([22866, 8]) torch.Size([22866])\n"
          ]
        }
      ]
    },
    {
      "cell_type": "markdown",
      "source": [
        "# Training\n"
      ],
      "metadata": {
        "id": "fTkca11VP2HM"
      }
    },
    {
      "cell_type": "markdown",
      "source": [],
      "metadata": {
        "id": "A3tN_1SVBze6"
      }
    },
    {
      "cell_type": "code",
      "source": [
        "# Initialization\n",
        "\n",
        "class Linear:\n",
        "  def __init__(self, fan_in, fan_out, bias=True):\n",
        "    self.weight = torch.randn((fan_in, fan_out)) / fan_in**0.5 # ensure uniform distribution instead of gaussian\n",
        "    self.bias = torch.zeros(fan_out) if bias else None\n",
        "\n",
        "  def __call__(self, x):\n",
        "    self.out = x @ self.weight\n",
        "    if self.bias is not None:\n",
        "      self.out += self.bias\n",
        "    return self.out\n",
        "\n",
        "  def parameters(self):\n",
        "    return [self.weight] + ([] if self.bias is None else [self.bias])\n",
        "\n",
        "class BatchNorm1d:\n",
        "  def __init__(self, dim, eps=1e-5, momentum=0.01):\n",
        "    self.eps = eps\n",
        "    self.momentum = momentum\n",
        "    self.training = True\n",
        "    # parameters (trained with backprop)\n",
        "    self.gamma = torch.ones(dim)\n",
        "    self.beta = torch.zeros(dim)\n",
        "\n",
        "    # buffers (trained with a running 'momentum update')\n",
        "    self.running_mean = torch.zeros(dim)\n",
        "    self.running_var = torch.ones(dim)\n",
        "\n",
        "  def __call__(self, x):\n",
        "    # calculate the forward pass\n",
        "    if self.training:\n",
        "      if x.ndim == 2:\n",
        "        dim = 0\n",
        "      elif x.ndim == 3:\n",
        "        dim = (0,1)\n",
        "      xmean = x.mean(dim, keepdim=True) # batch mean\n",
        "      xvar = x.var(dim, keepdim=True) # batch variance\n",
        "    else:\n",
        "      xmean = self.running_mean\n",
        "      xvar = self.running_var\n",
        "    xhat = (x - xmean) / torch.sqrt(xvar + self.eps) # normalize to unit variance\n",
        "    self.out = self.gamma * xhat + self.beta\n",
        "    # update the buffers\n",
        "    if self.training:\n",
        "      with torch.no_grad():\n",
        "        self.running_mean = (1 - self.momentum) * self.running_mean + self.momentum * xmean\n",
        "        self.running_var = (1 - self.momentum) * self.running_var + self.momentum * xvar\n",
        "    return self.out\n",
        "\n",
        "  def parameters(self):\n",
        "    return [self.gamma, self.beta]\n",
        "\n",
        "\n",
        "class Tanh:\n",
        "  def __call__(self, x):\n",
        "    self.out = torch.tanh(x)\n",
        "    return self.out\n",
        "\n",
        "  def parameters(self):\n",
        "    return []\n",
        "\n",
        "\n",
        "class Embedding:\n",
        "  def __init__(self, num_embeddings, embedding_dim):\n",
        "    self.weight = torch.randn((num_embeddings, embedding_dim))\n",
        "\n",
        "  def __call__(self, IX):\n",
        "    self.out = self.weight[IX]\n",
        "    return self.out\n",
        "\n",
        "  def parameters(self):\n",
        "    return [self.weight]\n",
        "\n",
        "class FlattenConsecutive:\n",
        "  def __init__(self,n):\n",
        "    self.n = n\n",
        "  def __call__(self, x):\n",
        "    B, T, C = x.shape\n",
        "    x = x.view(B, T // self.n, C * self.n)\n",
        "    if x.shape[1] == 1:\n",
        "      x = x.squeeze(1)\n",
        "    self.out = x\n",
        "    return self.out\n",
        "\n",
        "  def parameters(self):\n",
        "    return []\n",
        "\n",
        "class Sequential:\n",
        "  def __init__(self, layers):\n",
        "    self.layers = layers\n",
        "\n",
        "  def __call__(self, x):\n",
        "    for layer in self.layers:\n",
        "      x = layer(x)\n",
        "    self.out = x\n",
        "    return self.out\n",
        "\n",
        "  def parameters(self):\n",
        "    return [p for layer in self.layers for p  in layer.parameters()]\n",
        "\n"
      ],
      "metadata": {
        "id": "bxwA9CFQi7cE"
      },
      "execution_count": 24,
      "outputs": []
    },
    {
      "cell_type": "code",
      "source": [
        "torch.manual_seed(42);"
      ],
      "metadata": {
        "id": "kQWl3c6g2sw_"
      },
      "execution_count": 25,
      "outputs": []
    },
    {
      "cell_type": "markdown",
      "source": [
        "Old\n",
        "* Embedding : (4, 8, 10)\n",
        "* FlattenConsecutive : (4, 80)\n",
        "* Linear : (4, 200)\n",
        "* BatchNorm1d : (4, 200)\n",
        "* Tanh : (4, 200)\n",
        "* Linear : (4, 27)\n",
        "\n",
        "New\n",
        "* Embedding : (4, 8, 10)\n",
        "-> (4, 8, 10)\n",
        "-> (4, 4, 20)\n",
        "-> (4, 2, 40)\n",
        "-> (4, 1, 80) -> (4,40)\n",
        "\n",
        "* FlattenConsecutive : (4, 80)\n",
        "* Linear : (4, 200)\n",
        "* BatchNorm1d : (4, 200)\n",
        "* Tanh : (4, 200)\n",
        "* Linear : (4, 27)"
      ],
      "metadata": {
        "id": "oBQ5Cxf6koey"
      }
    },
    {
      "cell_type": "code",
      "source": [
        "n_embd = 10 # the dementialnaity of the char embedding vectors\n",
        "n_hidden = 68 # the number of neurons in the hidden layer of the MLP\n",
        "\n",
        "model = Sequential([\n",
        "          Embedding(VOCAB_SIZE, n_embd),\n",
        "          FlattenConsecutive(2), Linear(n_embd * 2, n_hidden, bias=False), BatchNorm1d(n_hidden), Tanh(),\n",
        "          FlattenConsecutive(2), Linear(n_hidden * 2, n_hidden, bias=False), BatchNorm1d(n_hidden), Tanh(),\n",
        "          FlattenConsecutive(2), Linear(n_hidden * 2, n_hidden, bias=False), BatchNorm1d(n_hidden), Tanh(),\n",
        "          Linear(n_hidden, VOCAB_SIZE)])\n",
        "\n",
        "\n",
        "with torch.no_grad():\n",
        "  model.layers[-1].weight *= 0.1 # gain - make last layer less confident\n",
        "\n",
        "parameters = model.parameters()\n",
        "for p in parameters:\n",
        "  p.requires_grad = True\n",
        "print(sum(p.nelement() for p in parameters))"
      ],
      "metadata": {
        "colab": {
          "base_uri": "https://localhost:8080/"
        },
        "id": "0UV9lLEI2r9g",
        "outputId": "b79e3e14-de87-4bc3-e826-7ae7073e684c"
      },
      "execution_count": 26,
      "outputs": [
        {
          "output_type": "stream",
          "name": "stdout",
          "text": [
            "22397\n"
          ]
        }
      ]
    },
    {
      "cell_type": "code",
      "source": [
        "# Optimization\n",
        "\n",
        "MAX_STEPS = 200000\n",
        "BATCH_SIZE = 32\n",
        "lossi = []\n",
        "\n",
        "for i in range(MAX_STEPS):\n",
        "  # minibatch construct\n",
        "  ix = torch.randint(0, Xtr.shape[0], (BATCH_SIZE,)) # Get the random indexes of 32 words from training data. shape = (32)\n",
        "  Xb, Yb = Xtr[ix], Ytr[ix] # Get the actual (32, BLOCK_SIZE)\n",
        "\n",
        "  # forward\n",
        "  logits = model(Xb)\n",
        "  loss = F.cross_entropy(logits, Yb)\n",
        "\n",
        "  # backward\n",
        "  for p in parameters:\n",
        "    p.grad = None\n",
        "  loss.backward()\n",
        "\n",
        "  # update\n",
        "  lr = 0.1 if i < 150000 else 0.01\n",
        "  for p in parameters:\n",
        "    p.data += -lr * p.grad\n",
        "\n",
        "  # track stats\n",
        "  if i % 10000 == 0:\n",
        "    print(f'{i:7d}/{MAX_STEPS:7d}: {loss.item():.4f}')\n",
        "  lossi.append(loss.log10().item())\n",
        "\n",
        "  # break # for debugging"
      ],
      "metadata": {
        "colab": {
          "base_uri": "https://localhost:8080/"
        },
        "id": "LX7GOggrY0b0",
        "outputId": "28d1d8f7-a877-4228-ce20-97dc7c04be32"
      },
      "execution_count": 27,
      "outputs": [
        {
          "output_type": "stream",
          "name": "stdout",
          "text": [
            "      0/ 200000: 3.3142\n",
            "  10000/ 200000: 2.2096\n",
            "  20000/ 200000: 2.1495\n",
            "  30000/ 200000: 2.1232\n",
            "  40000/ 200000: 1.9629\n",
            "  50000/ 200000: 2.4183\n",
            "  60000/ 200000: 1.9633\n",
            "  70000/ 200000: 1.8960\n",
            "  80000/ 200000: 2.1884\n",
            "  90000/ 200000: 1.8161\n",
            " 100000/ 200000: 1.5931\n",
            " 110000/ 200000: 2.3607\n",
            " 120000/ 200000: 2.3670\n",
            " 130000/ 200000: 1.9098\n",
            " 140000/ 200000: 2.2285\n",
            " 150000/ 200000: 1.7118\n",
            " 160000/ 200000: 1.8517\n",
            " 170000/ 200000: 1.9997\n",
            " 180000/ 200000: 2.1043\n",
            " 190000/ 200000: 1.6968\n"
          ]
        }
      ]
    },
    {
      "cell_type": "code",
      "source": [
        "for layer in model.layers:\n",
        "  print(layer.__class__.__name__, ':', tuple(layer.out.shape))"
      ],
      "metadata": {
        "colab": {
          "base_uri": "https://localhost:8080/"
        },
        "id": "T12to4FHaLX0",
        "outputId": "998752df-d8e1-40b3-9369-6180a06bbc76"
      },
      "execution_count": 28,
      "outputs": [
        {
          "output_type": "stream",
          "name": "stdout",
          "text": [
            "Embedding : (32, 8, 10)\n",
            "FlattenConsecutive : (32, 4, 20)\n",
            "Linear : (32, 4, 68)\n",
            "BatchNorm1d : (32, 4, 68)\n",
            "Tanh : (32, 4, 68)\n",
            "FlattenConsecutive : (32, 2, 136)\n",
            "Linear : (32, 2, 68)\n",
            "BatchNorm1d : (32, 2, 68)\n",
            "Tanh : (32, 2, 68)\n",
            "FlattenConsecutive : (32, 136)\n",
            "Linear : (32, 68)\n",
            "BatchNorm1d : (32, 68)\n",
            "Tanh : (32, 68)\n",
            "Linear : (32, 27)\n"
          ]
        }
      ]
    },
    {
      "cell_type": "code",
      "source": [
        "# plt.plot(torch.tensor(lossi).view(-1, 1000).mean(1))"
      ],
      "metadata": {
        "id": "kBgLr5WV8fDM"
      },
      "execution_count": 22,
      "outputs": []
    },
    {
      "cell_type": "code",
      "source": [
        "for layer in model.layers:\n",
        "  layer.training = False\n",
        "# evaluate the loss\n",
        "@torch.no_grad()\n",
        "def split_loss(split):\n",
        "  x, y = {\n",
        "      'train': (Xtr, Ytr),\n",
        "      'val': (Xdev, Ydev),\n",
        "      'test': (Xte, Yte),\n",
        "  }[split]\n",
        "  logits = model(x)\n",
        "  loss = F.cross_entropy(logits, y)\n",
        "  print(split, loss.item())\n",
        "\n",
        "split_loss('train')\n",
        "split_loss('val')\n",
        "# split_loss('test')"
      ],
      "metadata": {
        "colab": {
          "base_uri": "https://localhost:8080/"
        },
        "id": "urhc3XsM8u9S",
        "outputId": "c69f4e49-ece8-4e66-f5ae-76574bd9b78a"
      },
      "execution_count": 29,
      "outputs": [
        {
          "output_type": "stream",
          "name": "stdout",
          "text": [
            "train 1.909277081489563\n",
            "val 2.0185766220092773\n"
          ]
        }
      ]
    },
    {
      "cell_type": "markdown",
      "source": [
        "# Performance log\n",
        "\n",
        "* (3 char, 200 hidden neurons, 12k params): Train 2.08, val 2.105\n",
        "* (8 char, 22K params): train 1.905, val 2.048\n",
        "* (8 char structured, 22k params - 68 hidden layer): train 1.94, val 2.02\n",
        "* (8 char structured, 22k params) with batchnorm fixed: train 1.909, val 2.0186"
      ],
      "metadata": {
        "id": "Yoi8ie8kQkqH"
      }
    },
    {
      "cell_type": "code",
      "source": [
        "# sample from the model\n",
        "\n",
        "for _ in range(20):\n",
        "  out = []\n",
        "  context = [0] * BLOCK_SIZE # initialize with all ...\n",
        "  while True:\n",
        "    # forward\n",
        "    logits = model(torch.tensor([context]))\n",
        "    probs = F.softmax(logits, dim=1)\n",
        "    # sample from the distribution\n",
        "    ix = torch.multinomial(probs, num_samples=1).item()\n",
        "\n",
        "    # shift the context windows and track the samples\n",
        "    context = context[1:] + [ix]\n",
        "    out.append(ix)\n",
        "\n",
        "    # if we sample the special '.' token, break\n",
        "    if ix == 0:\n",
        "      break\n",
        "\n",
        "  print(''.join(itos[i] for i in out)) # decode and print"
      ],
      "metadata": {
        "id": "evWacVr--QpG"
      },
      "execution_count": null,
      "outputs": []
    },
    {
      "cell_type": "markdown",
      "source": [
        "Takeaway:\n",
        "* This wave net structure is for efficient rather than actual better understanding\n",
        "* The grouping is actually similar to sliding. Instead of sliding to each individual case, it takes some composition into kernel of NN."
      ],
      "metadata": {
        "id": "KzjoTEDn1jGp"
      }
    }
  ]
}