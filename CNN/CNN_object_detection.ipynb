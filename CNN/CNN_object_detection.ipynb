{
  "nbformat": 4,
  "nbformat_minor": 0,
  "metadata": {
    "colab": {
      "provenance": [],
      "gpuType": "T4",
      "authorship_tag": "ABX9TyPQw2uP3zDQOMY8mmFPLthW"
    },
    "kernelspec": {
      "name": "python3",
      "display_name": "Python 3"
    },
    "language_info": {
      "name": "python"
    },
    "accelerator": "GPU"
  },
  "cells": [
    {
      "cell_type": "markdown",
      "source": [
        "# Part 1: Set up & load data"
      ],
      "metadata": {
        "id": "9Y1HOWkh9s2T"
      }
    },
    {
      "cell_type": "code",
      "execution_count": 1,
      "metadata": {
        "id": "aURUZezR9AMt"
      },
      "outputs": [],
      "source": [
        "import torch\n",
        "import torchvision\n",
        "import torchvision.transforms as transforms\n",
        "\n",
        "#Pytorch TensorBoard support\n",
        "from torch.utils.tensorboard import SummaryWriter\n",
        "from datetime import datetime"
      ]
    },
    {
      "cell_type": "code",
      "source": [
        "transform = transforms.Compose(\n",
        "    [transforms.ToTensor(),\n",
        "     transforms.Normalize((0.5,), (0.5,))])\n",
        "\n",
        "training_set = torchvision.datasets.FashionMNIST(root='./data', train=True,\n",
        "                                                download=True, transform=transform)\n",
        "validation_set = torchvision.datasets.FashionMNIST(root='./data', train=False,\n",
        "                                            download=True, transform=transform)"
      ],
      "metadata": {
        "id": "-k5WIsn1-aEu",
        "colab": {
          "base_uri": "https://localhost:8080/"
        },
        "outputId": "9e4794eb-3e48-4591-ee3f-775052b287a6"
      },
      "execution_count": 2,
      "outputs": [
        {
          "output_type": "stream",
          "name": "stderr",
          "text": [
            "100%|██████████| 26.4M/26.4M [00:02<00:00, 9.14MB/s]\n",
            "100%|██████████| 29.5k/29.5k [00:00<00:00, 176kB/s]\n",
            "100%|██████████| 4.42M/4.42M [00:01<00:00, 3.14MB/s]\n",
            "100%|██████████| 5.15k/5.15k [00:00<00:00, 19.9MB/s]\n"
          ]
        }
      ]
    },
    {
      "cell_type": "code",
      "source": [
        "TRAIN_BATCH_SIZE = 4\n",
        "training_loader = torch.utils.data.DataLoader(training_set, batch_size=TRAIN_BATCH_SIZE,\n",
        "                                             shuffle=True)\n",
        "validation_loader = torch.utils.data.DataLoader(validation_set, batch_size=TRAIN_BATCH_SIZE,\n",
        "                                             shuffle=False)\n",
        "\n",
        "# All images here are 28x28 sized."
      ],
      "metadata": {
        "id": "hTVaC6eyACHD"
      },
      "execution_count": 3,
      "outputs": []
    },
    {
      "cell_type": "code",
      "source": [
        "classes = ('T-shirt/top', 'Trouser', 'Pullover', 'Dress', 'Coat',\n",
        "        'Sandal', 'Shirt', 'Sneaker', 'Bag', 'Ankle Boot')\n",
        "\n",
        "print('Training set has {} instances'.format(len(training_set)))\n",
        "print('Validation set has {} instances'.format(len(validation_set)))"
      ],
      "metadata": {
        "colab": {
          "base_uri": "https://localhost:8080/"
        },
        "id": "B4mINcgzAYsG",
        "outputId": "e2d3316c-331e-4f87-877d-1dfbb4d85d52"
      },
      "execution_count": 4,
      "outputs": [
        {
          "output_type": "stream",
          "name": "stdout",
          "text": [
            "Training set has 60000 instances\n",
            "Validation set has 10000 instances\n"
          ]
        }
      ]
    },
    {
      "cell_type": "markdown",
      "source": [
        "# Part 2: Data validation & visualization"
      ],
      "metadata": {
        "id": "WdCcnb9RAunk"
      }
    },
    {
      "cell_type": "code",
      "source": [
        "import matplotlib.pyplot as plt\n",
        "import numpy as np\n",
        "\n",
        "def imshow(img, one_channel=False):\n",
        "  if one_channel:\n",
        "    img = img.mean(dim = 0)\n",
        "  img = img/2 + 0.5 # Unnormalize\n",
        "  npimg = img.numpy()\n",
        "  if one_channel:\n",
        "    plt.imshow(npimg, cmap=\"Greys\")\n",
        "  else:\n",
        "    plt.imshow(np.transpose(npimg, (1, 2, 0)))\n",
        "\n",
        "dataiter = iter(training_loader)\n"
      ],
      "metadata": {
        "id": "MpP7hsvWA1JZ"
      },
      "execution_count": 5,
      "outputs": []
    },
    {
      "cell_type": "code",
      "source": [
        "images, labels = dataiter.__next__()\n",
        "\n",
        "img_grid = torchvision.utils.make_grid(images)\n",
        "imshow(torchvision.utils.make_grid(images), one_channel=True)\n",
        "\n",
        "print('Image size: {}'.format(images[0].shape))\n",
        "print('        ' + '         '.join('%5s' % classes[labels[j]] for j in range(TRAIN_BATCH_SIZE)))"
      ],
      "metadata": {
        "colab": {
          "base_uri": "https://localhost:8080/",
          "height": 230
        },
        "id": "5hx3HTw3BfuP",
        "outputId": "ab45d05a-3f44-42ac-d017-5152f9a18a48"
      },
      "execution_count": 6,
      "outputs": [
        {
          "output_type": "stream",
          "name": "stdout",
          "text": [
            "Image size: torch.Size([1, 28, 28])\n",
            "          Bag           Bag         Sneaker         Pullover\n"
          ]
        },
        {
          "output_type": "display_data",
          "data": {
            "text/plain": [
              "<Figure size 640x480 with 1 Axes>"
            ],
            "image/png": "[encoded data removed]"
          },
          "metadata": {}
        }
      ]
    },
    {
      "cell_type": "markdown",
      "source": [
        "# Part 3: Model"
      ],
      "metadata": {
        "id": "93pXT75SG80q"
      }
    },
    {
      "cell_type": "code",
      "source": [],
      "metadata": {
        "id": "KYv7RNKPaI54"
      },
      "execution_count": 6,
      "outputs": []
    },
    {
      "cell_type": "code",
      "source": [
        "import torch.nn as nn\n",
        "import torch.nn.functional as F"
      ],
      "metadata": {
        "id": "YQBXMOsUHszj"
      },
      "execution_count": 7,
      "outputs": []
    },
    {
      "cell_type": "code",
      "source": [
        "import torch.nn as nn\n",
        "import torch.nn.functional as F\n",
        "\n",
        "# PyTorch models inherit from torch.nn.Module\n",
        "class GarmentClassifier(nn.Module):\n",
        "    def __init__(self):\n",
        "        super(GarmentClassifier, self).__init__()\n",
        "        # down sampling (reduce size) - take max of each (2x2) submatrix\n",
        "        self.pool = nn.MaxPool2d(2, 2)\n",
        "        # 1 - input channel, 6 - number of output channels (6 feature maps), 5 - kernel size\n",
        "        # => map size = 28-5+1 = 24\n",
        "        # after pool => map size = 12\n",
        "        self.conv1 = nn.Conv2d(1, 6, 5)\n",
        "        # 6 - input channel, 16 - number of output channels (16 feature maps), 5 - kernel size\n",
        "        # => map size = 12 - 5 + 1 = 8\n",
        "        # => after pool => map size = 4\n",
        "        self.conv2 = nn.Conv2d(6, 16, 5)\n",
        "        # Flatten (4 x 4 feature) x 16 channels.\n",
        "        # Then just do normal multi layer neuron: 16*4*4 -> 120 -> 84 -> 10\n",
        "        self.fc1 = nn.Linear(16 * 4 * 4, 120) # fully connecttion\n",
        "        self.fc2 = nn.Linear(120, 84) # fully connection\n",
        "        self.fc3 = nn.Linear(84, 10) # fully connection. 10 is size of classification set\n",
        "\n",
        "\n",
        "    def forward(self, x):\n",
        "        x = self.pool(F.relu(self.conv1(x)))\n",
        "        x = self.pool(F.relu(self.conv2(x)))\n",
        "        x = x.view(-1, 16 * 4 * 4) # Flatten?\n",
        "        x = F.relu(self.fc1(x))\n",
        "        x = F.relu(self.fc2(x))\n",
        "        x = self.fc3(x)\n",
        "        return x\n",
        "\n",
        "\n",
        "model = GarmentClassifier()"
      ],
      "metadata": {
        "id": "mTLniZLyG6hv"
      },
      "execution_count": 8,
      "outputs": []
    },
    {
      "cell_type": "code",
      "source": [
        "# Demonstration purpose of how loss function works\n",
        "\n",
        "loss_fn = torch.nn.CrossEntropyLoss()\n",
        "\n",
        "# NB: Loss functions expect data in batches, so we're creating batches of 4\n",
        "# Represents the model's confidence in each of the 10 classes for a given input\n",
        "dummy_outputs = torch.rand(4, 10)\n",
        "# Represents the correct class among the 10 being tested\n",
        "dummy_labels = torch.tensor([1, 5, 3, 7])\n",
        "\n",
        "print(dummy_outputs)\n",
        "print(dummy_labels)\n",
        "\n",
        "loss = loss_fn(dummy_outputs, dummy_labels)\n",
        "print('Total loss for this batch: {}'.format(loss.item()))"
      ],
      "metadata": {
        "id": "68hkYalXb-Mp",
        "colab": {
          "base_uri": "https://localhost:8080/"
        },
        "outputId": "5b534001-c4ec-48aa-eb1d-4a44f40a744b"
      },
      "execution_count": 9,
      "outputs": [
        {
          "output_type": "stream",
          "name": "stdout",
          "text": [
            "tensor([[0.9691, 0.4155, 0.0860, 0.4226, 0.0760, 0.9440, 0.6090, 0.1553, 0.4763,\n",
            "         0.4035],\n",
            "        [0.8716, 0.6896, 0.2524, 0.5533, 0.9679, 0.6923, 0.9546, 0.0321, 0.1593,\n",
            "         0.6515],\n",
            "        [0.1306, 0.2738, 0.3573, 0.2621, 0.5701, 0.3672, 0.7103, 0.2051, 0.3693,\n",
            "         0.3600],\n",
            "        [0.5785, 0.2318, 0.3659, 0.2677, 0.7739, 0.2991, 0.5679, 0.7061, 0.6996,\n",
            "         0.4764]])\n",
            "tensor([1, 5, 3, 7])\n",
            "Total loss for this batch: 2.2886431217193604\n"
          ]
        }
      ]
    },
    {
      "cell_type": "code",
      "source": [
        "# Optimizers specified in the torch.optim package\n",
        "# model.parameters() => Return an interator to the list of **reference** of each parameter\n",
        "# It means optimzier.step() will change the parameters without NN\n",
        "# optimizer.zero_grad() => zero out all of slope in each params of NN\n",
        "optimizer = torch.optim.SGD(model.parameters(), lr=0.001, momentum=0.9)\n",
        "\n"
      ],
      "metadata": {
        "id": "pJVuLLdidnTj"
      },
      "execution_count": 10,
      "outputs": []
    },
    {
      "cell_type": "code",
      "source": [
        "def train_one_epoch(epoch_index, tb_writer):\n",
        "    running_loss = 0.\n",
        "    last_loss = 0.\n",
        "\n",
        "    # Here, we use enumerate(training_loader) instead of\n",
        "    # iter(training_loader) so that we can track the batch\n",
        "    # index and do some intra-epoch reporting\n",
        "    for i, data in enumerate(training_loader):\n",
        "        # Every data instance is an input + label pair\n",
        "        inputs, labels = data\n",
        "\n",
        "        # Zero your gradients for every batch!\n",
        "        optimizer.zero_grad()\n",
        "\n",
        "        # Make predictions for this batch. `model(inputs)` is equivalent to `mode.forward(inputs)`\n",
        "        outputs = model(inputs)\n",
        "\n",
        "        # Compute the loss and its gradients\n",
        "        loss = loss_fn(outputs, labels)\n",
        "        loss.backward()\n",
        "\n",
        "        # Adjust learning weights\n",
        "        optimizer.step()\n",
        "\n",
        "        # Gather data and report\n",
        "        running_loss += loss.item()\n",
        "        if i % 1000 == 999:\n",
        "            last_loss = running_loss / 1000 # loss per batch\n",
        "            print('  batch {} loss: {}'.format(i + 1, last_loss))\n",
        "            tb_x = epoch_index * len(training_loader) + i + 1\n",
        "            tb_writer.add_scalar('Loss/train', last_loss, tb_x)\n",
        "            running_loss = 0.\n",
        "\n",
        "    return last_loss"
      ],
      "metadata": {
        "id": "IctlgEs0dye1"
      },
      "execution_count": 11,
      "outputs": []
    },
    {
      "cell_type": "code",
      "source": [
        "# Initializing in a separate cell so we can easily add more epochs to the same run\n",
        "timestamp = datetime.now().strftime('%Y%m%d_%H%M%S')\n",
        "writer = SummaryWriter('runs/fashion_trainer_{}'.format(timestamp))\n",
        "epoch_number = 0\n",
        "\n",
        "EPOCHS = 5\n",
        "\n",
        "best_vloss = 1_000_000.\n",
        "\n",
        "for epoch in range(EPOCHS):\n",
        "    print('EPOCH {}:'.format(epoch_number + 1))\n",
        "\n",
        "    # Make sure gradient tracking is on, and do a pass over the data\n",
        "    model.train(True)\n",
        "    avg_loss = train_one_epoch(epoch_number, writer)\n",
        "\n",
        "\n",
        "    running_vloss = 0.0\n",
        "    # Set the model to evaluation mode, disabling dropout and using population\n",
        "    # statistics for batch normalization. => when we only care about the input -> model -> output\n",
        "    # This is because we no longer want to train here\n",
        "    model.eval()\n",
        "\n",
        "    # Disable gradient computation and reduce memory consumption.\n",
        "    with torch.no_grad():\n",
        "        for i, vdata in enumerate(validation_loader):\n",
        "            vinputs, vlabels = vdata\n",
        "            voutputs = model(vinputs)\n",
        "            vloss = loss_fn(voutputs, vlabels)\n",
        "            running_vloss += vloss\n",
        "\n",
        "    avg_vloss = running_vloss / (i + 1)\n",
        "    print('LOSS train {} valid {}'.format(avg_loss, avg_vloss))\n",
        "\n",
        "    # Log the running loss averaged per batch\n",
        "    # for both training and validation\n",
        "    writer.add_scalars('Training vs. Validation Loss',\n",
        "                    { 'Training' : avg_loss, 'Validation' : avg_vloss },\n",
        "                    epoch_number + 1)\n",
        "    writer.flush()\n",
        "\n",
        "    # Track best performance, and save the model's state\n",
        "    if avg_vloss < best_vloss:\n",
        "        best_vloss = avg_vloss\n",
        "        model_path = 'model_{}_{}'.format(timestamp, epoch_number)\n",
        "        torch.save(model.state_dict(), model_path)\n",
        "\n",
        "    epoch_number += 1"
      ],
      "metadata": {
        "colab": {
          "base_uri": "https://localhost:8080/"
        },
        "id": "KLf56Kj8Bx1C",
        "outputId": "45075e90-a46e-4ed2-bf48-adf8e28a494b"
      },
      "execution_count": 12,
      "outputs": [
        {
          "output_type": "stream",
          "name": "stdout",
          "text": [
            "EPOCH 1:\n",
            "  batch 1000 loss: 1.6994739711880684\n",
            "  batch 2000 loss: 0.8570371145792306\n",
            "  batch 3000 loss: 0.7192972814235836\n",
            "  batch 4000 loss: 0.6311017468948849\n",
            "  batch 5000 loss: 0.5832037721201777\n",
            "  batch 6000 loss: 0.5495494324297179\n",
            "  batch 7000 loss: 0.5333900610180572\n",
            "  batch 8000 loss: 0.4878353345741052\n",
            "  batch 9000 loss: 0.4953006903352216\n",
            "  batch 10000 loss: 0.4977128563872539\n",
            "  batch 11000 loss: 0.4779551656998228\n",
            "  batch 12000 loss: 0.4526813723007799\n",
            "  batch 13000 loss: 0.42002115652262\n",
            "  batch 14000 loss: 0.4356828175925184\n",
            "  batch 15000 loss: 0.4472652286606608\n",
            "LOSS train 0.4472652286606608 valid 0.46031856536865234\n",
            "EPOCH 2:\n",
            "  batch 1000 loss: 0.41590874221670676\n",
            "  batch 2000 loss: 0.4059416936820489\n",
            "  batch 3000 loss: 0.38652128791209545\n",
            "  batch 4000 loss: 0.4098192389215983\n",
            "  batch 5000 loss: 0.4147870429312752\n",
            "  batch 6000 loss: 0.36958256146241913\n",
            "  batch 7000 loss: 0.37981118273682657\n",
            "  batch 8000 loss: 0.38980977792554766\n",
            "  batch 9000 loss: 0.37418045533960687\n",
            "  batch 10000 loss: 0.3812465705012146\n",
            "  batch 11000 loss: 0.34619117384467973\n",
            "  batch 12000 loss: 0.346221042194069\n",
            "  batch 13000 loss: 0.3427691822928173\n",
            "  batch 14000 loss: 0.35216025910203463\n",
            "  batch 15000 loss: 0.36201810296720943\n",
            "LOSS train 0.36201810296720943 valid 0.3623550236225128\n",
            "EPOCH 3:\n",
            "  batch 1000 loss: 0.33469783726360763\n",
            "  batch 2000 loss: 0.3182892433574307\n",
            "  batch 3000 loss: 0.33737225394733833\n",
            "  batch 4000 loss: 0.35679745003330754\n",
            "  batch 5000 loss: 0.34176641883543923\n",
            "  batch 6000 loss: 0.35963168103376664\n",
            "  batch 7000 loss: 0.30388131169498955\n",
            "  batch 8000 loss: 0.3123064965874946\n",
            "  batch 9000 loss: 0.31494328410131855\n",
            "  batch 10000 loss: 0.3211379443771439\n",
            "  batch 11000 loss: 0.3234212199362519\n",
            "  batch 12000 loss: 0.31151804080938017\n",
            "  batch 13000 loss: 0.3276046652980731\n",
            "  batch 14000 loss: 0.341221273337178\n",
            "  batch 15000 loss: 0.32711712630168766\n",
            "LOSS train 0.32711712630168766 valid 0.33421653509140015\n",
            "EPOCH 4:\n",
            "  batch 1000 loss: 0.3115774111096398\n",
            "  batch 2000 loss: 0.3129227374917391\n",
            "  batch 3000 loss: 0.30882790284121436\n",
            "  batch 4000 loss: 0.29179490326163066\n",
            "  batch 5000 loss: 0.30402692095551176\n",
            "  batch 6000 loss: 0.31350908625956797\n",
            "  batch 7000 loss: 0.2841059335135651\n",
            "  batch 8000 loss: 0.29366155309833264\n",
            "  batch 9000 loss: 0.2935710976416012\n",
            "  batch 10000 loss: 0.3021855685374103\n",
            "  batch 11000 loss: 0.2956580163790568\n",
            "  batch 12000 loss: 0.30999517846110664\n",
            "  batch 13000 loss: 0.2971094652913598\n",
            "  batch 14000 loss: 0.2935591069998409\n",
            "  batch 15000 loss: 0.29786968747923676\n",
            "LOSS train 0.29786968747923676 valid 0.33157286047935486\n",
            "EPOCH 5:\n",
            "  batch 1000 loss: 0.29008407039189477\n",
            "  batch 2000 loss: 0.29629603758057055\n",
            "  batch 3000 loss: 0.28868188857390303\n",
            "  batch 4000 loss: 0.2866289044334153\n",
            "  batch 5000 loss: 0.27897976388828827\n",
            "  batch 6000 loss: 0.2852822582174995\n",
            "  batch 7000 loss: 0.2745071019090392\n",
            "  batch 8000 loss: 0.26683703808497283\n",
            "  batch 9000 loss: 0.2754814825023368\n",
            "  batch 10000 loss: 0.29157878949766747\n",
            "  batch 11000 loss: 0.2972493183351544\n",
            "  batch 12000 loss: 0.2722915184587291\n",
            "  batch 13000 loss: 0.28246994263944364\n",
            "  batch 14000 loss: 0.27300244685082\n",
            "  batch 15000 loss: 0.2655877941926301\n",
            "LOSS train 0.2655877941926301 valid 0.3162766695022583\n"
          ]
        }
      ]
    },
    {
      "cell_type": "markdown",
      "source": [
        "# Part 4: Prediction"
      ],
      "metadata": {
        "id": "Yb5ZZyrWJFLS"
      }
    },
    {
      "cell_type": "code",
      "source": [
        "model.eval()\n",
        "\n",
        "dataiter = iter(validation_loader)"
      ],
      "metadata": {
        "id": "3P4OLDKbFJrz"
      },
      "execution_count": 30,
      "outputs": []
    },
    {
      "cell_type": "code",
      "source": [
        "# Run multiple time to get predictions of multiple batch in validation set\n",
        "\n",
        "images, labels = dataiter.__next__()\n",
        "img_grid = torchvision.utils.make_grid(images)\n",
        "imshow(torchvision.utils.make_grid(images), one_channel=True)\n",
        "print('Image size: {}'.format(images[0].shape))\n",
        "print('Label:  ' + '         '.join('%5s' % classes[labels[j]] for j in range(TRAIN_BATCH_SIZE)))\n",
        "predictions = model(images)\n",
        "_, predicted = torch.max(predictions, 1)\n",
        "print('Output: ' + '         '.join('%5s' % classes[predicted[j]] for j in range(TRAIN_BATCH_SIZE)))"
      ],
      "metadata": {
        "colab": {
          "base_uri": "https://localhost:8080/",
          "height": 248
        },
        "id": "nsjgkDTaI6Pl",
        "outputId": "a72bae21-0c4f-4e52-8d76-726e3c3ef6e2"
      },
      "execution_count": 39,
      "outputs": [
        {
          "output_type": "stream",
          "name": "stdout",
          "text": [
            "Image size: torch.Size([1, 28, 28])\n",
            "Label:  Dress         Dress           Bag         T-shirt/top\n",
            "Output: Dress         Dress           Bag         T-shirt/top\n"
          ]
        },
        {
          "output_type": "display_data",
          "data": {
            "text/plain": [
              "<Figure size 640x480 with 1 Axes>"
            ],
            "image/png": "[encoded data removed]"
          },
          "metadata": {}
        }
      ]
    }
  ]
}
