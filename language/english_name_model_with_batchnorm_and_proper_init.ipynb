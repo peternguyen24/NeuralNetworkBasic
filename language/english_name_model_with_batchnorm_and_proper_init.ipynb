{
  "nbformat": 4,
  "nbformat_minor": 0,
  "metadata": {
    "colab": {
      "provenance": [],
      "mount_file_id": "19KhoUZ-BNJaAuENiINpUgp2dgPV1j4Bp",
      "authorship_tag": "ABX9TyPKOfH22umMA6+iTvhp7ksG",
      "include_colab_link": true
    },
    "kernelspec": {
      "name": "python3",
      "display_name": "Python 3"
    },
    "language_info": {
      "name": "python"
    }
  },
  "cells": [
    {
      "cell_type": "markdown",
      "metadata": {
        "id": "view-in-github",
        "colab_type": "text"
      },
      "source": [
        "<a href=\"https://colab.research.google.com/github/peternguyen24/NeuralNetworkBasic/blob/main/language/english_name_model_with_batchnorm_and_proper_init.ipynb\" target=\"_parent\"><img src=\"https://colab.research.google.com/assets/colab-badge.svg\" alt=\"Open In Colab\"/></a>"
      ]
    },
    {
      "cell_type": "markdown",
      "source": [
        "Video: https://www.youtube.com/watch?v=TCH_1BHY58I&t=308s"
      ],
      "metadata": {
        "id": "VxtEcy3t6Txn"
      }
    },
    {
      "cell_type": "code",
      "execution_count": 3,
      "metadata": {
        "id": "wW8whmRI6RNg"
      },
      "outputs": [],
      "source": [
        " words = open('/content/drive/MyDrive/Colab Notebooks/names.txt', 'r').read().splitlines()"
      ]
    },
    {
      "cell_type": "code",
      "source": [
        "words[:8]"
      ],
      "metadata": {
        "colab": {
          "base_uri": "https://localhost:8080/"
        },
        "id": "RTrVhw0-62WS",
        "outputId": "4b8b61e9-f404-49eb-fa96-91ccfae915af"
      },
      "execution_count": 4,
      "outputs": [
        {
          "output_type": "execute_result",
          "data": {
            "text/plain": [
              "['emma', 'olivia', 'ava', 'isabella', 'sophia', 'charlotte', 'mia', 'amelia']"
            ]
          },
          "metadata": {},
          "execution_count": 4
        }
      ]
    },
    {
      "cell_type": "markdown",
      "source": [
        "#Part 1: Dataset"
      ],
      "metadata": {
        "id": "RwGvc7Rp7FpK"
      }
    },
    {
      "cell_type": "code",
      "source": [
        "import torch\n",
        "import torch.nn.functional as F\n",
        "import matplotlib.pyplot as plt"
      ],
      "metadata": {
        "id": "hxT3pIZQ7d62"
      },
      "execution_count": 5,
      "outputs": []
    },
    {
      "cell_type": "code",
      "source": [
        "chars = set()\n",
        "for word in words:\n",
        "  for ch in word:\n",
        "    chars.add(ch)\n",
        "chars = sorted(list(chars))\n",
        "\n",
        "stoi = {ch: idx+1 for idx, ch in enumerate(chars)}\n",
        "stoi['.'] = 0\n",
        "\n",
        "itos = {idx: ch for ch, idx in stoi.items()}\n",
        "print(itos)\n",
        "print(stoi)\n",
        "\n",
        "VOCAB_SIZE = len(itos)"
      ],
      "metadata": {
        "colab": {
          "base_uri": "https://localhost:8080/"
        },
        "id": "KuUqqRK07Wfz",
        "outputId": "4bb94d94-3f0b-43b7-ad95-a910c4817e4d"
      },
      "execution_count": 6,
      "outputs": [
        {
          "output_type": "stream",
          "name": "stdout",
          "text": [
            "{1: 'a', 2: 'b', 3: 'c', 4: 'd', 5: 'e', 6: 'f', 7: 'g', 8: 'h', 9: 'i', 10: 'j', 11: 'k', 12: 'l', 13: 'm', 14: 'n', 15: 'o', 16: 'p', 17: 'q', 18: 'r', 19: 's', 20: 't', 21: 'u', 22: 'v', 23: 'w', 24: 'x', 25: 'y', 26: 'z', 0: '.'}\n",
            "{'a': 1, 'b': 2, 'c': 3, 'd': 4, 'e': 5, 'f': 6, 'g': 7, 'h': 8, 'i': 9, 'j': 10, 'k': 11, 'l': 12, 'm': 13, 'n': 14, 'o': 15, 'p': 16, 'q': 17, 'r': 18, 's': 19, 't': 20, 'u': 21, 'v': 22, 'w': 23, 'x': 24, 'y': 25, 'z': 26, '.': 0}\n"
          ]
        }
      ]
    },
    {
      "cell_type": "code",
      "source": [
        "# BLOCK_SIZE = 3\n",
        "# X, Y  = [], []\n",
        "\n",
        "# for w in words:\n",
        "#   # print(w)\n",
        "#   context = [0] * BLOCK_SIZE\n",
        "#   for ch in w + '.':\n",
        "#     ix = stoi[ch]\n",
        "#     X.append(context)\n",
        "#     Y.append(ix)\n",
        "#     # print(''.join(itos[i] for i in context), '--->', itos[ix])\n",
        "#     context = context[1:] + [ix]\n",
        "\n",
        "# X = torch.tensor(X)\n",
        "# Y = torch.tensor(Y)\n",
        "# data_size = X.nelement()"
      ],
      "metadata": {
        "id": "o5XvO2k367xb"
      },
      "execution_count": 7,
      "outputs": []
    },
    {
      "cell_type": "code",
      "source": [
        "# X.shape, X.dtype, Y.shape, Y.dtype\n"
      ],
      "metadata": {
        "id": "GGIh7bSQ80w_"
      },
      "execution_count": 8,
      "outputs": []
    },
    {
      "cell_type": "code",
      "source": [
        "# training split, validation split, test split\n",
        "# 80% 10% 10%\n",
        "\n",
        "BLOCK_SIZE = 3\n",
        "\n",
        "def build_dataset(words):\n",
        "  X, Y  = [], []\n",
        "  for w in words:\n",
        "  # print(w)\n",
        "    context = [0] * BLOCK_SIZE\n",
        "    for ch in w + '.':\n",
        "      ix = stoi[ch]\n",
        "      X.append(context)\n",
        "      Y.append(ix)\n",
        "      # print(''.join(itos[i] for i in context), '--->', itos[ix])\n",
        "      context = context[1:] + [ix]\n",
        "  return torch.tensor(X), torch.tensor(Y)\n",
        "\n",
        "import random\n",
        "random.seed(42)\n",
        "random.shuffle(words)\n",
        "n1 = int(0.8*len(words))\n",
        "n2 = int(0.9*len(words))\n",
        "\n",
        "Xtr, Ytr = build_dataset(words[:n1])\n",
        "Xdev, Ydev = build_dataset(words[n1:n2])\n",
        "Xte, Yte = build_dataset(words[n2:])\n"
      ],
      "metadata": {
        "id": "E5r2nKijRttA"
      },
      "execution_count": 9,
      "outputs": []
    },
    {
      "cell_type": "markdown",
      "source": [
        "# Training\n"
      ],
      "metadata": {
        "id": "fTkca11VP2HM"
      }
    },
    {
      "cell_type": "markdown",
      "source": [],
      "metadata": {
        "id": "A3tN_1SVBze6"
      }
    },
    {
      "cell_type": "code",
      "source": [
        "class Linear:\n",
        "  def __init__(self, fan_in, fan_out, bias=True):\n",
        "    self.weight = torch.randn((fan_in, fan_out)) / fan_in**0.5\n",
        "    self.bias = torch.zeros(fan_out) if bias else None\n",
        "\n",
        "  def __call__(self, x):\n",
        "    self.out = x @ self.weight\n",
        "    if self.bias is not None:\n",
        "      self.out += self.bias\n",
        "    return self.out\n",
        "\n",
        "  def parameters(self):\n",
        "    return [self.weight] + ([] if self.bias is None else [self.bias])\n",
        "\n",
        "class BatchNorm1d:\n",
        "  def __init__(self, dim, eps=1e-5, momentum=0.01):\n",
        "    self.eps = eps\n",
        "    self.momentum = momentum\n",
        "    self.training = True\n",
        "    # parameters (trained with backprop)\n",
        "    self.gamma = torch.ones(dim)\n",
        "    self.beta = torch.zeros(dim)\n",
        "    # buffers (trained with a running 'momentum update')\n",
        "    self.running_mean = torch.zeros(dim)\n",
        "    self.running_var = torch.ones(dim)\n",
        "\n",
        "  def __call__(self, x):\n",
        "    # calculate the forward pass\n",
        "    if self.training:\n",
        "      xmean = x.mean(0, keepdim=True) # batch mean\n",
        "      xvar = x.var(0, keepdim=True) # batch variance\n",
        "    else:\n",
        "      xmean = self.running_mean\n",
        "      xvar = self.running_var\n",
        "    xhat = (x - xmean) / torch.sqrt(xvar + self.eps) # normalize\n",
        "    self.out = self.gamma * xhat + self.beta\n",
        "    # update the buffers\n",
        "    if self.training:\n",
        "      with torch.no_grad():\n",
        "        self.running_mean = (1 - self.momentum) * self.running + self.momentum * xmean\n",
        "        self.running_var = (1 - self.momentum) * xvar + self.momentum * xmean\n",
        "    return self.out\n",
        "\n",
        "  def parameters(self):\n",
        "    return [self.gamma, self.beta]\n",
        "\n",
        "  def train(self):\n",
        "    self.training = True\n",
        "\n",
        "  def eval(self):\n",
        "    self.training = False\n",
        "\n",
        "class Tanh:\n",
        "  def __call__(self, x):\n",
        "    self.out = torch.tanh(x)\n",
        "    return self.out\n",
        "\n",
        "  def parameters(self):\n",
        "    return []\n",
        "\n",
        "\n",
        "\n",
        "n_embd = 10 # the dementialnaity of the char embedding vectors\n",
        "n_hidden = 100 # the number of neurons in the hidden layer of the MLP\n",
        "g = torch.Generator().manual_seed(2147483647) # for reproducibility purpose\n",
        "\n",
        "C = torch.randn((27, n_embd), generator=g)\n",
        "layers = [\n",
        "          Linear(n_embd * BLOCK_SIZE, n_hidden), Tanh(),\n",
        "          Linear(n_hidden, n_hidden, bias=False), Tanh(),\n",
        "          Linear(n_hidden, n_hidden, bias=False), Tanh(),\n",
        "          Linear(n_hidden, n_hidden, bias=False), Tanh(),\n",
        "          Linear(n_hidden, n_hidden, bias=False), Tanh(),\n",
        "          Linear(n_hidden, VOCAB_SIZE)]\n",
        "\n",
        "\n",
        "with torch.no_grad():\n",
        "  layers[-1].weight *= 0.1 # gain\n",
        "  for layer in layers[:-1]:\n",
        "    if isinstance(layer, Linear):\n",
        "      layer.weight *= 5 / 3\n",
        "\n",
        "parameters = [C] + [p for layer in layers for p in layer.parameters()]\n",
        "for p in parameters:\n",
        "  p.requires_grad = True\n",
        "print(sum(p.nelement() for p in parameters))\n"
      ],
      "metadata": {
        "id": "bxwA9CFQi7cE",
        "colab": {
          "base_uri": "https://localhost:8080/"
        },
        "outputId": "8c57ca99-9b07-4aef-fe1b-ed78735c9d4f"
      },
      "execution_count": 12,
      "outputs": [
        {
          "output_type": "stream",
          "name": "stdout",
          "text": [
            "45997\n"
          ]
        }
      ]
    }
  ]
}