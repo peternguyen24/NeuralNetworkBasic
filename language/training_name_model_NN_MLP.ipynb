{
  "nbformat": 4,
  "nbformat_minor": 0,
  "metadata": {
    "colab": {
      "provenance": [],
      "mount_file_id": "1kg3vu4IlDObpQ0PL5AP33g-61H-nYb1d",
      "authorship_tag": "ABX9TyMNHDHxpo1d0Hfa+MeRW6ZP",
      "include_colab_link": true
    },
    "kernelspec": {
      "name": "python3",
      "display_name": "Python 3"
    },
    "language_info": {
      "name": "python"
    }
  },
  "cells": [
    {
      "cell_type": "markdown",
      "metadata": {
        "id": "view-in-github",
        "colab_type": "text"
      },
      "source": [
        "<a href=\"https://colab.research.google.com/github/peternguyen24/NeuralNetworkBasic/blob/main/language/training_name_model_NN_MLP.ipynb\" target=\"_parent\"><img src=\"https://colab.research.google.com/assets/colab-badge.svg\" alt=\"Open In Colab\"/></a>"
      ]
    },
    {
      "cell_type": "markdown",
      "source": [
        "Video: https://www.youtube.com/watch?v=TCH_1BHY58I&t=308s"
      ],
      "metadata": {
        "id": "VxtEcy3t6Txn"
      }
    },
    {
      "cell_type": "code",
      "execution_count": 70,
      "metadata": {
        "id": "wW8whmRI6RNg"
      },
      "outputs": [],
      "source": [
        " words = open('/content/drive/MyDrive/Colab Notebooks/names.txt', 'r').read().splitlines()"
      ]
    },
    {
      "cell_type": "code",
      "source": [
        "words[:8]"
      ],
      "metadata": {
        "colab": {
          "base_uri": "https://localhost:8080/"
        },
        "id": "RTrVhw0-62WS",
        "outputId": "b0da933b-acfd-4014-c10f-a55bce9acd98"
      },
      "execution_count": 71,
      "outputs": [
        {
          "output_type": "execute_result",
          "data": {
            "text/plain": [
              "['emma', 'olivia', 'ava', 'isabella', 'sophia', 'charlotte', 'mia', 'amelia']"
            ]
          },
          "metadata": {},
          "execution_count": 71
        }
      ]
    },
    {
      "cell_type": "markdown",
      "source": [
        "#Part 1: Dataset"
      ],
      "metadata": {
        "id": "RwGvc7Rp7FpK"
      }
    },
    {
      "cell_type": "code",
      "source": [
        "import torch\n",
        "import torch.nn.functional as F\n",
        "import matplotlib.pyplot as plt"
      ],
      "metadata": {
        "id": "hxT3pIZQ7d62"
      },
      "execution_count": 72,
      "outputs": []
    },
    {
      "cell_type": "code",
      "source": [
        "chars = set()\n",
        "for word in words:\n",
        "  for ch in word:\n",
        "    chars.add(ch)\n",
        "chars = sorted(list(chars))\n",
        "\n",
        "stoi = {ch: idx+1 for idx, ch in enumerate(chars)}\n",
        "stoi['.'] = 0\n",
        "\n",
        "itos = {idx: ch for ch, idx in stoi.items()}\n",
        "print(itos)\n",
        "print(stoi)"
      ],
      "metadata": {
        "colab": {
          "base_uri": "https://localhost:8080/"
        },
        "id": "KuUqqRK07Wfz",
        "outputId": "ca8a36e6-bd4c-45fe-a3b2-734b9264cea5"
      },
      "execution_count": 73,
      "outputs": [
        {
          "output_type": "stream",
          "name": "stdout",
          "text": [
            "{1: 'a', 2: 'b', 3: 'c', 4: 'd', 5: 'e', 6: 'f', 7: 'g', 8: 'h', 9: 'i', 10: 'j', 11: 'k', 12: 'l', 13: 'm', 14: 'n', 15: 'o', 16: 'p', 17: 'q', 18: 'r', 19: 's', 20: 't', 21: 'u', 22: 'v', 23: 'w', 24: 'x', 25: 'y', 26: 'z', 0: '.'}\n",
            "{'a': 1, 'b': 2, 'c': 3, 'd': 4, 'e': 5, 'f': 6, 'g': 7, 'h': 8, 'i': 9, 'j': 10, 'k': 11, 'l': 12, 'm': 13, 'n': 14, 'o': 15, 'p': 16, 'q': 17, 'r': 18, 's': 19, 't': 20, 'u': 21, 'v': 22, 'w': 23, 'x': 24, 'y': 25, 'z': 26, '.': 0}\n"
          ]
        }
      ]
    },
    {
      "cell_type": "code",
      "source": [
        "# BLOCK_SIZE = 3\n",
        "# X, Y  = [], []\n",
        "\n",
        "# for w in words:\n",
        "#   # print(w)\n",
        "#   context = [0] * BLOCK_SIZE\n",
        "#   for ch in w + '.':\n",
        "#     ix = stoi[ch]\n",
        "#     X.append(context)\n",
        "#     Y.append(ix)\n",
        "#     # print(''.join(itos[i] for i in context), '--->', itos[ix])\n",
        "#     context = context[1:] + [ix]\n",
        "\n",
        "# X = torch.tensor(X)\n",
        "# Y = torch.tensor(Y)\n",
        "# data_size = X.nelement()"
      ],
      "metadata": {
        "id": "o5XvO2k367xb"
      },
      "execution_count": 74,
      "outputs": []
    },
    {
      "cell_type": "code",
      "source": [
        "# X.shape, X.dtype, Y.shape, Y.dtype\n"
      ],
      "metadata": {
        "colab": {
          "base_uri": "https://localhost:8080/"
        },
        "id": "GGIh7bSQ80w_",
        "outputId": "6a38e341-1dfa-4bd0-a91c-8c177c80bd3b"
      },
      "execution_count": 75,
      "outputs": [
        {
          "output_type": "execute_result",
          "data": {
            "text/plain": [
              "(torch.Size([228146, 3]), torch.int64, torch.Size([228146]), torch.int64)"
            ]
          },
          "metadata": {},
          "execution_count": 75
        }
      ]
    },
    {
      "cell_type": "code",
      "source": [
        "# training split, validation split, test split\n",
        "# 80% 10% 10%\n",
        "\n",
        "BLOCK_SIZE = 3\n",
        "\n",
        "def build_dataset(words):\n",
        "  X, Y  = [], []\n",
        "  for w in words:\n",
        "  # print(w)\n",
        "    context = [0] * BLOCK_SIZE\n",
        "    for ch in w + '.':\n",
        "      ix = stoi[ch]\n",
        "      X.append(context)\n",
        "      Y.append(ix)\n",
        "      # print(''.join(itos[i] for i in context), '--->', itos[ix])\n",
        "      context = context[1:] + [ix]\n",
        "  return torch.tensor(X), torch.tensor(Y)\n",
        "\n",
        "import random\n",
        "random.seed(42)\n",
        "random.shuffle(words)\n",
        "n1 = int(0.8*len(words))\n",
        "n2 = int(0.9*len(words))\n",
        "\n",
        "Xtr, Ytr = build_dataset(words[:n1])\n",
        "Xdev, Ydev = build_dataset(words[n1:n2])\n",
        "Xte, Yte = build_dataset(words[n2:])\n"
      ],
      "metadata": {
        "id": "E5r2nKijRttA"
      },
      "execution_count": 105,
      "outputs": []
    },
    {
      "cell_type": "markdown",
      "source": [
        "# Training\n"
      ],
      "metadata": {
        "id": "fTkca11VP2HM"
      }
    },
    {
      "cell_type": "code",
      "source": [
        "def train_nn(X, Y, neuron_count=100, embedding_size = 2):\n",
        "  g = torch.Generator().manual_seed(2147483647)\n",
        "  C = torch.randn((27, embedding_size), generator=g)\n",
        "  W1 = torch.rand((3*embedding_size, neuron_count), generator=g) # input is 6, since each input is 3 words x 2 embedding vector size\n",
        "  b1 = torch.randn(neuron_count, generator=g)\n",
        "  W2 = torch.randn((neuron_count, 27), generator=g)\n",
        "  b2 = torch.randn(27, generator=g)\n",
        "\n",
        "  parameters = [C, W1, b1, W2, b2]\n",
        "\n",
        "  print(\"Number of parameter: \", sum(p.nelement() for p in parameters))\n",
        "\n",
        "  # emb.shape # [<number.of.input>, 3, 2] means each 32 input, each input is 3 char, each char is 2-dim vector\n",
        "\n",
        "  for p in parameters: # don't forget to clear params grad every time.\n",
        "      p.requires_grad = True\n",
        "\n",
        "  for step in range(30000):\n",
        "\n",
        "    # minibatch\n",
        "    ix = torch.randint(0, X.shape[0], (32,))\n",
        "\n",
        "    # Forward\n",
        "    emb = C[X[ix]] # transform words to embedding\n",
        "    # neuron layer #1. Input 6 output 100; (* input size)\n",
        "    h = torch.tanh(emb.view(-1, embedding_size * 3) @ W1 + b1)\n",
        "    # neuron layer #2. Input 100 output 27; (* input size)\n",
        "    logits = h @ W2 + b2\n",
        "    loss = F.cross_entropy(logits, Y[ix])\n",
        "    # print(loss.item())\n",
        "\n",
        "\n",
        "    # Backward\n",
        "    for p in parameters: # don't forget to clear params grad every time.\n",
        "      p.grad = None\n",
        "    loss.backward()\n",
        "\n",
        "    # update\n",
        "    LR = 0.04 # Good technique is to find a good number, then after training, decay it by 10, then run couple more time.\n",
        "    for p in parameters:\n",
        "      p.data += -LR * p.grad\n",
        "\n",
        "  print(\"Final loss: \", loss.item())\n",
        "  return C, W1, b1, W2, b2\n",
        "\n"
      ],
      "metadata": {
        "id": "0WTlZubaHm6x"
      },
      "execution_count": 159,
      "outputs": []
    },
    {
      "cell_type": "code",
      "source": [
        "C, W1, b1, W2, b2 = train_nn(Xtr, Ytr, neuron_count = 200, embedding_size = 10)\n",
        "model_params = [C, W1, b1, W2, b2]"
      ],
      "metadata": {
        "colab": {
          "base_uri": "https://localhost:8080/"
        },
        "id": "odofmU1HTd36",
        "outputId": "375f30d7-1dc6-417a-9554-cdfd732e192c"
      },
      "execution_count": 163,
      "outputs": [
        {
          "output_type": "stream",
          "name": "stdout",
          "text": [
            "Number of parameter:  11897\n",
            "Final loss:  1.9969549179077148\n"
          ]
        }
      ]
    },
    {
      "cell_type": "code",
      "source": [
        "# Evaluation on whole data (dev set)\n",
        "\n",
        "emb = C[Xdev]\n",
        "h = torch.tanh(emb.view(-1, 30) @ W1 + b1)\n",
        "logits = h @ W2 + b2\n",
        "loss = F.cross_entropy(logits, Ydev)\n",
        "print(loss.item())"
      ],
      "metadata": {
        "colab": {
          "base_uri": "https://localhost:8080/"
        },
        "id": "ePaQFcdsDOUw",
        "outputId": "eaeff2d4-3fd2-4144-c72d-d0d40eb947b1"
      },
      "execution_count": 161,
      "outputs": [
        {
          "output_type": "stream",
          "name": "stdout",
          "text": [
            "2.330176830291748\n"
          ]
        }
      ]
    },
    {
      "cell_type": "code",
      "source": [
        "# Evaluation on whole data (training set)\n",
        "\n",
        "emb = C[Xtr]\n",
        "h = torch.tanh(emb.view(-1, 30) @ W1 + b1)\n",
        "logits = h @ W2 + b2\n",
        "loss = F.cross_entropy(logits, Ytr)\n",
        "print(loss.item())"
      ],
      "metadata": {
        "colab": {
          "base_uri": "https://localhost:8080/"
        },
        "id": "nmN8OukyVHxh",
        "outputId": "a8b9e43e-b54f-4ec4-c8f4-9d904b7c36b7"
      },
      "execution_count": 152,
      "outputs": [
        {
          "output_type": "stream",
          "name": "stdout",
          "text": [
            "2.4213690757751465\n"
          ]
        }
      ]
    },
    {
      "cell_type": "code",
      "source": [
        "# Evaluation on whole data (test set)\n",
        "\n",
        "emb = C[Xte]\n",
        "h = torch.tanh(emb.view(-1, 30) @ W1 + b1)\n",
        "logits = h @ W2 + b2\n",
        "loss = F.cross_entropy(logits, Yte)\n",
        "print(loss.item())"
      ],
      "metadata": {
        "colab": {
          "base_uri": "https://localhost:8080/"
        },
        "id": "zMinNt_XaEZZ",
        "outputId": "24a3ff7f-eaf3-46c7-dbd8-52cbcbd1f1c5"
      },
      "execution_count": 162,
      "outputs": [
        {
          "output_type": "stream",
          "name": "stdout",
          "text": [
            "2.3309710025787354\n"
          ]
        }
      ]
    },
    {
      "cell_type": "markdown",
      "source": [
        "# How to adjust learning rate"
      ],
      "metadata": {
        "id": "x1h4VoyLTW-F"
      }
    },
    {
      "cell_type": "markdown",
      "source": [
        "How to get the right learning rate:\n",
        "\n",
        "- Try with small learning rate to see if things is moving\n",
        "- Try with big learning rate to see if things explode\n",
        "\n",
        "=> Result is between\n",
        "\n"
      ],
      "metadata": {
        "id": "OPRMSf1ZDqxt"
      }
    },
    {
      "cell_type": "code",
      "source": [
        "# lre = torch.linspace(-3, 0, 1000) #-3, -2, -1, 0 => we want 10^x\n",
        "# lrs = 10**lre"
      ],
      "metadata": {
        "id": "yxxrMbgND-QM"
      },
      "execution_count": 77,
      "outputs": []
    },
    {
      "cell_type": "code",
      "source": [
        "# for p in parameters:\n",
        "#   p.requires_grad = True"
      ],
      "metadata": {
        "id": "dkB_k73lSasl"
      },
      "execution_count": 90,
      "outputs": []
    },
    {
      "cell_type": "code",
      "source": [
        "# emb.shape # [<number.of.input>, 3, 2] means each 32 input, each input is 3 char, each char is 2-dim vector\n",
        "\n",
        "# TRAINING FOR PURPOSE OF FINDING STEP. DONOT RUN\n",
        "\n",
        "lri = []\n",
        "lossi = []\n",
        "\n",
        "for step in range(1000):\n",
        "\n",
        "  # minibatch\n",
        "  ix = torch.randint(0, X.shape[0], (128,))\n",
        "\n",
        "  # Forward\n",
        "  emb = C[X[ix]] # transform words to embedding\n",
        "  # neuron layer #1. Input 6 output 100; (* input size)\n",
        "  h = torch.tanh(emb.view(-1, 6) @ W1 + b1)\n",
        "  # neuron layer #2. Input 100 output 27; (* input size)\n",
        "  logits = h @ W2 + b2\n",
        "  loss = F.cross_entropy(logits, Y[ix])\n",
        "  # print(loss.item())\n",
        "\n",
        "\n",
        "  # Backward\n",
        "  for p in parameters: # don't forget to clear params grad every time.\n",
        "    p.grad = None\n",
        "  loss.backward()\n",
        "\n",
        "  # update\n",
        "  lr = lrs[step]\n",
        "  for p in parameters:\n",
        "    p.data += -lr * p.grad\n",
        "\n",
        "  # track stats\n",
        "  lri.append(lre[step])\n",
        "  lossi.append(loss.item())\n",
        "\n",
        "print(loss.item())\n",
        "\n",
        "plt.plot(lri, lossi)\n"
      ],
      "metadata": {
        "colab": {
          "base_uri": "https://localhost:8080/"
        },
        "id": "Fs9WfJ5BOwhf",
        "outputId": "5f4abffe-a2b6-4e1a-84cc-696e2aeaa159"
      },
      "execution_count": 83,
      "outputs": [
        {
          "output_type": "stream",
          "name": "stdout",
          "text": [
            "6.702215194702148\n"
          ]
        }
      ]
    },
    {
      "cell_type": "code",
      "source": [
        "# Visualize the embeddings"
      ],
      "metadata": {
        "id": "glxUvoMRYRDC"
      },
      "execution_count": null,
      "outputs": []
    },
    {
      "cell_type": "code",
      "source": [
        "plt.figure(figsize=(8,8))\n",
        "plt.scatter(C[:,0].data, C[:,1].data, s=200)\n",
        "for i in range(C.shape[0]):\n",
        "  plt.text(C[i,0].item(), C[i,1].item(), itos[i], ha=\"center\", va=\"center\", color=\"white\")\n",
        "plt.grid('minor')"
      ],
      "metadata": {
        "colab": {
          "base_uri": "https://localhost:8080/",
          "height": 676
        },
        "id": "KDvWuP4-YTHe",
        "outputId": "8bf90a2b-2ebf-49a4-b99b-54f3557c3259"
      },
      "execution_count": 153,
      "outputs": [
        {
          "output_type": "display_data",
          "data": {
            "text/plain": [
              "<Figure size 800x800 with 1 Axes>"
            ],
            "image/png": "[encoded data removed]"
          },
          "metadata": {}
        }
      ]
    },
    {
      "cell_type": "markdown",
      "source": [
        "# Predict (generate word)"
      ],
      "metadata": {
        "id": "kaKzsblY9Glq"
      }
    },
    {
      "cell_type": "code",
      "source": [
        "def predict_next_ch(input = \"...\"):\n",
        "  input_ix = [stoi[ch] for ch in input]\n",
        "  emb = C[torch.tensor(input_ix)]\n",
        "  h = torch.tanh(emb.view(1, -1) @ W1 + b1)\n",
        "  logits = h @ W2 + b2\n",
        "  probs = F.softmax(logits, dim=1)\n",
        "  # find index of value bigger\n",
        "  candidates = torch.topk(probs, 2).indices[0]\n",
        "  return itos[candidates[random.randint(0,1)].item()]\n",
        "\n",
        "\n",
        "for param in model_params:\n",
        "    param.requires_grad = False\n",
        "# predict_next_ch(\"cha\")\n",
        "\n",
        "#randomly create a name.\n",
        "\n",
        "context = \"tra\"\n",
        "name = [context]\n",
        "for _ in range(20):\n",
        "  next_ch = predict_next_ch(input = context)\n",
        "  if next_ch == '.':\n",
        "    break\n",
        "  name.append(next_ch)\n",
        "  context = context[1:] + next_ch\n",
        "print(\"\".join(name))\n",
        "\n",
        ""
      ],
      "metadata": {
        "id": "1ajJ632IP26p",
        "colab": {
          "base_uri": "https://localhost:8080/"
        },
        "outputId": "6434480e-e566-419f-9d61-d9b89bb2b99c"
      },
      "execution_count": 232,
      "outputs": [
        {
          "output_type": "stream",
          "name": "stdout",
          "text": [
            "tran\n"
          ]
        }
      ]
    },
    {
      "cell_type": "code",
      "source": [],
      "metadata": {
        "id": "TDpxw-sLesCw"
      },
      "execution_count": null,
      "outputs": []
    }
  ]
}